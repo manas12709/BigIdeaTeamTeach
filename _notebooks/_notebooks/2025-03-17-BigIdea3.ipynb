{
 "cells": [
  {
   "cell_type": "raw",
   "metadata": {
    "vscode": {
     "languageId": "raw"
    }
   },
   "source": [
    "---\n",
    "layout: post\n",
    "title: BigIdea 3 Team Teach\n",
    "description: Big Idea 3 Team Teach - Manas, Arhaan, Ahmad\n",
    "permalink: /bigidea3/\n",
    "comments: true\n",
    "---"
   ]
  },
  {
   "cell_type": "markdown",
   "metadata": {},
   "source": [
    "# Hello"
   ]
  }
 ],
 "metadata": {
  "language_info": {
   "name": "python"
  }
 },
 "nbformat": 4,
 "nbformat_minor": 2
}
