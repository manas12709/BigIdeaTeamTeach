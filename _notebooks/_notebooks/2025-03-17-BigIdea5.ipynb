{
 "cells": [
  {
   "cell_type": "raw",
   "metadata": {
    "vscode": {
     "languageId": "raw"
    }
   },
   "source": [
    "---\n",
    "layout: post\n",
    "title: BigIdea 5 Team Teach\n",
    "description: Big Idea 5 Team Teach - Manas, Arhaan, Ahmad\n",
    "permalink: /bigidea5/\n",
    "comments: true\n",
    "---"
   ]
  }
 ],
 "metadata": {
  "language_info": {
   "name": "python"
  }
 },
 "nbformat": 4,
 "nbformat_minor": 2
}
